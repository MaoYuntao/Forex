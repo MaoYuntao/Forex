{
 "cells": [
  {
   "cell_type": "code",
   "execution_count": 3,
   "id": "7432a820-2f42-40b0-acf3-fdf163803dfd",
   "metadata": {},
   "outputs": [
    {
     "name": "stdout",
     "output_type": "stream",
     "text": [
      "           date   positive   nagetive    neutral\n",
      "0    2018-12-01  23.030169 -11.390828 -10.225464\n",
      "1    2018-12-03  -2.731276  39.643679 -25.364363\n",
      "2    2018-12-04  17.784760  24.590352 -31.324271\n",
      "3    2018-12-05  27.496205  20.712166 -34.538321\n",
      "4    2018-12-06   9.575583  35.381421 -31.234498\n",
      "...         ...        ...        ...        ...\n",
      "1286 2022-12-26  12.747457   9.325550 -15.329597\n",
      "1287 2022-12-27  -1.534937  32.357284 -20.492669\n",
      "1288 2022-12-28   4.526812  18.865505 -16.758387\n",
      "1289 2022-12-29  20.397309   8.322168 -20.031361\n",
      "1290 2022-12-30  13.906901  12.707854 -20.573757\n",
      "\n",
      "[1291 rows x 4 columns]\n"
     ]
    }
   ],
   "source": [
    "import pandas as pd\n",
    "\n",
    "# 加载数据\n",
    "df = pd.read_csv('result(dat-new-emo)_vector.csv')\n",
    "usd = pd.read_csv('USD_CNY历史数据.csv')\n",
    "eur = pd.read_csv('EUR_CNY历史数据.csv')\n",
    "gbp = pd.read_csv('GBP_CNY历史数据.csv')\n",
    "# 确保日期列是日期格式\n",
    "df['date'] = pd.to_datetime(df['date'])\n",
    "# 按日期分组并计算每日的情感得分总和\n",
    "grouped_df = df.groupby('date')[['positive', 'nagetive', 'neutral']].sum()\n",
    "\n",
    "# 重置索引，使日期成为一列\n",
    "result_df = grouped_df.reset_index()\n",
    "\n",
    "# 显示结果\n",
    "print(result_df)\n",
    "\n",
    "# 可选：将结果保存为新的 CSV 文件\n",
    "result_df.to_csv('date_sentiment.csv', index=False)\n",
    "\n",
    "# 合并数据表\n",
    "for f,n in zip([usd, eur, gbp],['usd','eur','gbp']):\n",
    "    f['date'] = pd.to_datetime(f['date'])\n",
    "    merged_df = pd.merge(result_df, f, on='date', how='inner')\n",
    "    merged_df.to_csv(f'{n}_sentiment.csv', encoding='gbk', index=False)\n"
   ]
  },
  {
   "cell_type": "code",
   "execution_count": 2,
   "id": "e06f3303-bf4d-4e9f-beb6-cbad65fdf902",
   "metadata": {},
   "outputs": [],
   "source": [
    "import pandas as pd\n",
    "for n in ['USD','GBP','EUR']:\n",
    "    # 训练集：2018年12月至2020年8月\n",
    "    df = pd.read_csv(f'{n}_CNY历史数据.csv')\n",
    "    \n",
    "    train_df = df[(df['date'] >= '2018-12-01') & (df['date'] <= '2020-08-31')]\n",
    "    \n",
    "    # 验证集：2020年9月至2021年3月\n",
    "    validation_df = df[(df['date'] >= '2020-09-01') & (df['date'] <= '2021-03-31')]\n",
    "    \n",
    "    # 测试集：2021年4月至2022年12月\n",
    "    test_df = df[(df['date'] >= '2021-04-01') & (df['date'] <= '2022-12-31')]\n",
    "    \n",
    "    # 将这些数据集保存为新文件\n",
    "    train_df.to_csv(f'train/{n}.csv', index=False, encoding='gbk')\n",
    "    validation_df.to_csv(f'validation/{n}.csv', index=False, encoding='gbk')\n",
    "    test_df.to_csv(f'test/{n}', index=False, encoding='gbk')"
   ]
  },
  {
   "cell_type": "code",
   "execution_count": null,
   "id": "c01ee1ee-87e5-482f-9b7b-e5dfbcebb660",
   "metadata": {},
   "outputs": [],
   "source": []
  }
 ],
 "metadata": {
  "kernelspec": {
   "display_name": "Python 3 (ipykernel)",
   "language": "python",
   "name": "python3"
  },
  "language_info": {
   "codemirror_mode": {
    "name": "ipython",
    "version": 3
   },
   "file_extension": ".py",
   "mimetype": "text/x-python",
   "name": "python",
   "nbconvert_exporter": "python",
   "pygments_lexer": "ipython3",
   "version": "3.10.7"
  }
 },
 "nbformat": 4,
 "nbformat_minor": 5
}
